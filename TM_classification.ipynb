{
  "cells": [
    {
      "cell_type": "markdown",
      "metadata": {
        "id": "5k7gH7Lx6iKX"
      },
      "source": [
        "# Text classification method performance evaluation using the IMDB movie review dataset"
      ]
    },
    {
      "cell_type": "markdown",
      "metadata": {
        "id": "GnyPPKuh66u3"
      },
      "source": [
        "## Package imports"
      ]
    },
    {
      "cell_type": "code",
      "execution_count": null,
      "metadata": {
        "id": "-6mRgk6UEATD"
      },
      "outputs": [],
      "source": [
        "# using https://towardsdatascience.com/sentiment-analysis-in-10-minutes-with-bert-and-hugging-face-294e8a04b671 as base code for most of the notebook\n",
        "\n",
        "# All imports\n",
        "# Data manipulation and NNetworks\n",
        "import tensorflow as tf\n",
        "import pandas as pd\n",
        "import numpy as np\n",
        "# File manipulation\n",
        "import os\n",
        "import shutil\n",
        "# plotting\n",
        "import matplotlib.pyplot as plt\n",
        "# Time\n",
        "import time\n",
        "\n",
        "\n"
      ]
    },
    {
      "cell_type": "markdown",
      "metadata": {
        "id": "EoXsOvO77Ag_"
      },
      "source": [
        "## Data import"
      ]
    },
    {
      "cell_type": "code",
      "execution_count": null,
      "metadata": {
        "colab": {
          "base_uri": "https://localhost:8080/"
        },
        "id": "Gtkl-Eva4e4Y",
        "outputId": "74c1e7d7-b71f-4ac4-cfa3-20611229a2d4"
      },
      "outputs": [
        {
          "name": "stdout",
          "output_type": "stream",
          "text": [
            "Downloading data from https://ai.stanford.edu/~amaas/data/sentiment/aclImdb_v1.tar.gz\n",
            "84131840/84125825 [==============================] - 2s 0us/step\n",
            "84140032/84125825 [==============================] - 2s 0us/step\n"
          ]
        }
      ],
      "source": [
        "# Download dataset from repository\n",
        "URL = \"https://ai.stanford.edu/~amaas/data/sentiment/aclImdb_v1.tar.gz\"\n",
        "\n",
        "dataset = tf.keras.utils.get_file(fname=\"aclImdb_v1.tar.gz\", \n",
        "                                  origin=URL,\n",
        "                                  untar=True,\n",
        "                                  cache_dir='.',\n",
        "                                  cache_subdir='')"
      ]
    },
    {
      "cell_type": "code",
      "execution_count": null,
      "metadata": {
        "colab": {
          "base_uri": "https://localhost:8080/"
        },
        "id": "7oTP3zEt499m",
        "outputId": "8084e23d-4e0d-42dd-f559-27b3e0ff1e5b"
      },
      "outputs": [
        {
          "name": "stdout",
          "output_type": "stream",
          "text": [
            "['pos', 'labeledBow.feat', 'neg', 'urls_pos.txt', 'unsupBow.feat', 'urls_unsup.txt', 'urls_neg.txt']\n"
          ]
        }
      ],
      "source": [
        "# Create main directory path (\"/aclImdb\")\n",
        "main_dir = os.path.join(os.path.dirname(dataset), 'aclImdb')\n",
        "# Create sub directory path (\"/aclImdb/train\")\n",
        "train_dir = os.path.join(main_dir, 'train')\n",
        "# Remove unsupervised folder\n",
        "remove_dir = os.path.join(train_dir, 'unsup')\n",
        "shutil.rmtree(remove_dir)\n",
        "# View the final train folder\n",
        "print(os.listdir(train_dir))"
      ]
    },
    {
      "cell_type": "markdown",
      "metadata": {
        "id": "yuHmXPNE7L0Y"
      },
      "source": [
        "## Data split train/test 80/20"
      ]
    },
    {
      "cell_type": "code",
      "execution_count": null,
      "metadata": {
        "colab": {
          "base_uri": "https://localhost:8080/"
        },
        "id": "zV8u5IEo5RH2",
        "outputId": "2c1f0d3c-e76a-42f6-af23-fc4767665a17"
      },
      "outputs": [
        {
          "name": "stdout",
          "output_type": "stream",
          "text": [
            "Found 25000 files belonging to 2 classes.\n",
            "Using 20000 files for training.\n",
            "Found 25000 files belonging to 2 classes.\n",
            "Using 5000 files for validation.\n",
            "Found 25000 files belonging to 2 classes.\n"
          ]
        }
      ],
      "source": [
        "# We create a training dataset and a validation \n",
        "# dataset from our \"aclImdb/train\" directory with a 80/20 split for training and testing.\n",
        "train = tf.keras.preprocessing.text_dataset_from_directory(\n",
        "    'aclImdb/train', batch_size=30000, validation_split=0.2, \n",
        "    subset='training', seed=123)\n",
        "\n",
        "test = tf.keras.preprocessing.text_dataset_from_directory(\n",
        "    'aclImdb/train', batch_size=30000, validation_split=0.2, \n",
        "    subset='validation', seed=123)\n",
        "\n",
        "# Use the \"test\" directory for validation\n",
        "valid = tf.keras.preprocessing.text_dataset_from_directory(\n",
        "    'aclImdb/train', batch_size=30000, seed=123)"
      ]
    },
    {
      "cell_type": "code",
      "execution_count": null,
      "metadata": {
        "colab": {
          "base_uri": "https://localhost:8080/"
        },
        "id": "z7tofH8-5z-S",
        "outputId": "e59fd99b-92f0-4bcf-cfad-957e12a98d86"
      },
      "outputs": [
        {
          "name": "stdout",
          "output_type": "stream",
          "text": [
            "(20000, 2)\n"
          ]
        }
      ],
      "source": [
        "# Training set\n",
        "for i in train.take(1):\n",
        "  train_feat = i[0].numpy()\n",
        "  train_lab = i[1].numpy()\n",
        "\n",
        "train = pd.DataFrame([train_feat, train_lab]).T\n",
        "train.columns = ['Data', 'Label']\n",
        "train['Data'] = train['Data'].str.decode(\"utf-8\")\n",
        "# sanity check\n",
        "#print(train.head())\n",
        "print(train.shape)"
      ]
    },
    {
      "cell_type": "code",
      "execution_count": null,
      "metadata": {
        "colab": {
          "base_uri": "https://localhost:8080/"
        },
        "id": "08aM0pNW6FPH",
        "outputId": "53cc221c-e46b-4e99-8ff5-ea6a62844939"
      },
      "outputs": [
        {
          "name": "stdout",
          "output_type": "stream",
          "text": [
            "(5000, 2)\n"
          ]
        }
      ],
      "source": [
        "# Test set\n",
        "for j in test.take(1):\n",
        "  test_feat = j[0].numpy()\n",
        "  test_lab = j[1].numpy()\n",
        "\n",
        "test = pd.DataFrame([test_feat, test_lab]).T\n",
        "test.columns = ['Data', 'Label']\n",
        "test['Data'] = test['Data'].str.decode(\"utf-8\")\n",
        "# sanity check\n",
        "#print(test.head())\n",
        "print(test.shape)\n"
      ]
    },
    {
      "cell_type": "code",
      "execution_count": null,
      "metadata": {
        "colab": {
          "base_uri": "https://localhost:8080/"
        },
        "id": "WLBRi7-JO6Fq",
        "outputId": "3318f957-6506-4681-dad7-0ecdd8a521e7"
      },
      "outputs": [
        {
          "name": "stdout",
          "output_type": "stream",
          "text": [
            "(25000, 2)\n"
          ]
        }
      ],
      "source": [
        "# Validation set\n",
        "for j in valid.take(1):\n",
        "  valid_feat = j[0].numpy()\n",
        "  valid_lab = j[1].numpy()\n",
        "\n",
        "valid = pd.DataFrame([valid_feat, valid_lab]).T\n",
        "valid.columns = ['Data', 'Label']\n",
        "valid['Data'] = valid['Data'].str.decode(\"utf-8\")\n",
        "# sanity check\n",
        "#print(valid.head())\n",
        "print(valid.shape)"
      ]
    },
    {
      "cell_type": "markdown",
      "metadata": {
        "id": "mURUyRFK7b8w"
      },
      "source": [
        "## Dataset exploration"
      ]
    },
    {
      "cell_type": "code",
      "execution_count": null,
      "metadata": {
        "colab": {
          "base_uri": "https://localhost:8080/"
        },
        "id": "LrbG36x_6W4a",
        "outputId": "f40e2f64-8653-40f9-de1f-2b46c5d444cb"
      },
      "outputs": [
        {
          "name": "stdout",
          "output_type": "stream",
          "text": [
            "1    25000\n",
            "0    25000\n",
            "Name: Label, dtype: int64\n",
            "0    10057\n",
            "1     9943\n",
            "Name: Label, dtype: int64\n",
            "1    2557\n",
            "0    2443\n",
            "Name: Label, dtype: int64\n",
            "1    12500\n",
            "0    12500\n",
            "Name: Label, dtype: int64\n"
          ]
        }
      ],
      "source": [
        "df_expl = pd.concat([train, test, valid], ignore_index = True)\n",
        "\n",
        "print(df_expl['Label'].value_counts())\n",
        "print(train['Label'].value_counts())\n",
        "print(test['Label'].value_counts())\n",
        "print(valid['Label'].value_counts())"
      ]
    },
    {
      "cell_type": "markdown",
      "metadata": {
        "id": "xbaRK9wvPY0S"
      },
      "source": [
        "The dataset is balanced for the two classes and for each split of the data. There is no strong imbalance that justifies a different sampling of the data."
      ]
    },
    {
      "cell_type": "code",
      "execution_count": null,
      "metadata": {
        "colab": {
          "base_uri": "https://localhost:8080/"
        },
        "id": "bWCVi0tHP_DN",
        "outputId": "2201e640-cbad-4611-a23b-3b3536508c72"
      },
      "outputs": [
        {
          "name": "stdout",
          "output_type": "stream",
          "text": [
            "Max string length of review:  13704\n",
            "Max word length of review:  2470\n",
            "Min string length of review:  52\n",
            "Min word length of review:  10\n",
            "Mean string length of review:  1325\n",
            "Mean word length of review:  234\n"
          ]
        }
      ],
      "source": [
        "# Dataset statistics\n",
        "# max length of review (word and character)\n",
        "print('Max string length of review: ', round(np.max(df_expl['Data'].apply(lambda x: len(x)))))\n",
        "print('Max word length of review: ', round(np.max(df_expl['Data'].apply(lambda x: len(x.split())))))\n",
        "# min length of review (word and character)\n",
        "print('Min string length of review: ', round(np.min(df_expl['Data'].apply(lambda x: len(x)))))\n",
        "print('Min word length of review: ', round(np.min(df_expl['Data'].apply(lambda x: len(x.split())))))\n",
        "# avg length of review (word and character)\n",
        "print('Mean string length of review: ', round(np.mean(df_expl['Data'].apply(lambda x: len(x)))))\n",
        "print('Mean word length of review: ', round(np.mean(df_expl['Data'].apply(lambda x: len(x.split())))))"
      ]
    },
    {
      "cell_type": "markdown",
      "metadata": {
        "id": "anGbjWmgSlnL"
      },
      "source": [
        "There is a large spread between the minimum and the maximum number of words or string length in this dataset. We will visualize the distribution in terms of word length of reviews to better the dataset. Visualizing word length makes more sense as stop words (usually short) are still included at this moment. We shall also visualize the distribution of reviews by word length depending on the class (positive or negative review)."
      ]
    },
    {
      "cell_type": "code",
      "execution_count": null,
      "metadata": {
        "colab": {
          "base_uri": "https://localhost:8080/",
          "height": 283
        },
        "id": "Y8yTEIDZSlI7",
        "outputId": "0ce679f3-b4db-48f7-dbd3-0e983ecc16f1"
      },
      "outputs": [
        {
          "data": {
            "image/png": "[encoded data removed]",
            "text/plain": [
              "<Figure size 432x288 with 1 Axes>"
            ]
          },
          "metadata": {},
          "output_type": "display_data"
        }
      ],
      "source": [
        "# Plot distribution of reviews by word length\n",
        "plt.hist([len(t.split()) for t in df_expl['Data']], 100)\n",
        "plt.xlabel('Word length of reviews')\n",
        "plt.ylabel('Number of reviews')\n",
        "plt.rcParams[\"figure.figsize\"] = (18.5,10.5)\n",
        "plt.xlim(0,2500)\n",
        "plt.ylim(0, 8000)\n",
        "plt.show()"
      ]
    },
    {
      "cell_type": "markdown",
      "metadata": {
        "id": "P5whQ5Y6Yf0F"
      },
      "source": [
        "The distribution is heavily skewed towards 200-300 word length as expected, with long reviews being rare. This is somewhat expected as these movie reviews can be submitted to IMDB by any user. We will now see if this distribution is also present for each class."
      ]
    },
    {
      "cell_type": "code",
      "execution_count": null,
      "metadata": {
        "id": "PuUZl74xZGJ1"
      },
      "outputs": [],
      "source": [
        "# negative reviews\n",
        "neg_rev = df_expl[df_expl['Label'] == 0]['Data']\n",
        "# positive reviews\n",
        "pos_rev = df_expl[df_expl['Label'] == 1]['Data']"
      ]
    },
    {
      "cell_type": "code",
      "execution_count": null,
      "metadata": {
        "colab": {
          "base_uri": "https://localhost:8080/",
          "height": 649
        },
        "id": "pRpXg5ZVZhGx",
        "outputId": "d65ef6b9-1a13-453f-a0af-b5bc5b1a2f6f"
      },
      "outputs": [
        {
          "data": {
            "image/png": "[encoded data removed]",
            "text/plain": [
              "<Figure size 1332x756 with 1 Axes>"
            ]
          },
          "metadata": {},
          "output_type": "display_data"
        }
      ],
      "source": [
        "# plot negative review distribution by word length\n",
        "\n",
        "plt.hist([len(t.split()) for t in neg_rev], 100)\n",
        "plt.xlabel('Word length of reviews')\n",
        "plt.ylabel('Number of reviews')\n",
        "plt.rcParams[\"figure.figsize\"] = (18.5,10.5)\n",
        "plt.xlim(0,2500)\n",
        "plt.ylim(0, 4000)\n",
        "plt.title('Negative review distribution')\n",
        "plt.show()"
      ]
    },
    {
      "cell_type": "code",
      "execution_count": null,
      "metadata": {
        "colab": {
          "base_uri": "https://localhost:8080/",
          "height": 649
        },
        "id": "GDDh94LNZ8X_",
        "outputId": "c2e2110e-9831-487e-a9b0-f9c30a1cbda8"
      },
      "outputs": [
        {
          "data": {
            "image/png": "[encoded data removed]",
            "text/plain": [
              "<Figure size 1332x756 with 1 Axes>"
            ]
          },
          "metadata": {},
          "output_type": "display_data"
        }
      ],
      "source": [
        "# plot negative review distribution by word length\n",
        "\n",
        "plt.hist([len(t.split()) for t in pos_rev], 100)\n",
        "plt.xlabel('Word length of reviews')\n",
        "plt.ylabel('Number of reviews')\n",
        "plt.rcParams[\"figure.figsize\"] = (18.5,10.5)\n",
        "plt.xlim(0,2500)\n",
        "plt.ylim(0, 4000)\n",
        "plt.title('positive review distribution')\n",
        "plt.show()"
      ]
    },
    {
      "cell_type": "markdown",
      "metadata": {
        "id": "EHK1B9xKaSrY"
      },
      "source": [
        "These distributions are interesting to compare to one another. We can see that the number of words used for a negative distribution seems to be more numerous for very short text (< 100 words) and also for text longer than for the review average length. The distribution of negative reviews is heavier around the average than for the positive reviews. The latter's distribution decays faster. We shall check the similar word/string average statistics used previously for positive and negative reviews."
      ]
    },
    {
      "cell_type": "code",
      "execution_count": null,
      "metadata": {
        "colab": {
          "base_uri": "https://localhost:8080/"
        },
        "id": "sVaahGIyhZks",
        "outputId": "1c302bb4-3fb6-4304-d0c6-08933453436a"
      },
      "outputs": [
        {
          "name": "stdout",
          "output_type": "stream",
          "text": [
            "#######################################################\n",
            "Negative reviews statistics\n",
            "Max string length of review:  8969\n",
            "Max word length of review:  1522\n",
            "Min string length of review:  52\n",
            "Min word length of review:  10\n",
            "Mean string length of review:  1303\n",
            "Mean word length of review:  231\n",
            "########################################################\n",
            "positive reviews statistics\n",
            "Max string length of review:  13704\n",
            "Max word length of review:  2470\n",
            "Min string length of review:  70\n",
            "Min word length of review:  12\n",
            "Mean string length of review:  1347\n",
            "Mean word length of review:  237\n"
          ]
        }
      ],
      "source": [
        "# Dataset statistics\n",
        "# Negative reviews\n",
        "# max length of review (word and character)\n",
        "print('#######################################################')\n",
        "print('Negative reviews statistics')\n",
        "print('Max string length of review: ', round(np.max(neg_rev.apply(lambda x: len(x)))))\n",
        "print('Max word length of review: ', round(np.max(neg_rev.apply(lambda x: len(x.split())))))\n",
        "# min length of review (word and character)\n",
        "print('Min string length of review: ', round(np.min(neg_rev.apply(lambda x: len(x)))))\n",
        "print('Min word length of review: ', round(np.min(neg_rev.apply(lambda x: len(x.split())))))\n",
        "# avg length of review (word and character)\n",
        "print('Mean string length of review: ', round(np.mean(neg_rev.apply(lambda x: len(x)))))\n",
        "print('Mean word length of review: ', round(np.mean(neg_rev.apply(lambda x: len(x.split())))))\n",
        "\n",
        "print('########################################################')\n",
        "print('positive reviews statistics')\n",
        "print('Max string length of review: ', round(np.max(pos_rev.apply(lambda x: len(x)))))\n",
        "print('Max word length of review: ', round(np.max(pos_rev.apply(lambda x: len(x.split())))))\n",
        "# min length of review (word and character)\n",
        "print('Min string length of review: ', round(np.min(pos_rev.apply(lambda x: len(x)))))\n",
        "print('Min word length of review: ', round(np.min(pos_rev.apply(lambda x: len(x.split())))))\n",
        "# avg length of review (word and character)\n",
        "print('Mean string length of review: ', round(np.mean(pos_rev.apply(lambda x: len(x)))))\n",
        "print('Mean word length of review: ', round(np.mean(pos_rev.apply(lambda x: len(x.split())))))"
      ]
    },
    {
      "cell_type": "markdown",
      "metadata": {
        "id": "pMUpAAqCif7h"
      },
      "source": [
        "Except for the maximum length, that might be an outlier, the average length of both positive and negative reviews are similar to each other. This underlines the importance of the distribution visualization as it gives more insight into the data"
      ]
    },
    {
      "cell_type": "markdown",
      "metadata": {
        "id": "At544JTPjauZ"
      },
      "source": [
        "## Text normalization\n",
        "\n",
        "We now wish to remove text contractions, stop words, special characters, parse HTML text and lemmatize the text"
      ]
    },
    {
      "cell_type": "code",
      "execution_count": null,
      "metadata": {
        "colab": {
          "base_uri": "https://localhost:8080/"
        },
        "id": "C5MJ6ZMUoOXM",
        "outputId": "3c1ee14d-8163-4fa9-d775-4a35af0f745f"
      },
      "outputs": [
        {
          "data": {
            "text/plain": [
              "0    Canadian director Vincenzo Natali took the art...\n",
              "1    I gave this film 10 not because it is a superb...\n",
              "2    I admit to being somewhat jaded about the movi...\n",
              "3    For a long time, 'The Menagerie' was my favori...\n",
              "Name: Data, dtype: object"
            ]
          },
          "execution_count": 15,
          "metadata": {},
          "output_type": "execute_result"
        }
      ],
      "source": [
        "# Example\n",
        "example = df_expl['Data'][0]\n",
        "# print(example)\n",
        "\n",
        "examples = df_expl['Data'][0:4]\n",
        "examples"
      ]
    },
    {
      "cell_type": "code",
      "execution_count": null,
      "metadata": {
        "colab": {
          "base_uri": "https://localhost:8080/"
        },
        "id": "rQNT1ViSlEqq",
        "outputId": "eb9e5a5b-32ba-427e-f946-f89eedd5d122"
      },
      "outputs": [
        {
          "name": "stderr",
          "output_type": "stream",
          "text": [
            "[nltk_data] Downloading package stopwords to /root/nltk_data...\n",
            "[nltk_data]   Unzipping corpora/stopwords.zip.\n"
          ]
        }
      ],
      "source": [
        "# Imports for text normalization\n",
        "import spacy\n",
        "import nltk\n",
        "nltk.download('stopwords')\n",
        "import re\n",
        "from nltk.tokenize.toktok import ToktokTokenizer\n",
        "from bs4 import BeautifulSoup\n",
        "from nltk.stem.porter import PorterStemmer"
      ]
    },
    {
      "cell_type": "code",
      "execution_count": null,
      "metadata": {
        "id": "Kcm8Tvr7qALH"
      },
      "outputs": [],
      "source": [
        "# Text tokenizer\n",
        "tokenizer = ToktokTokenizer()\n",
        "stopwords = nltk.corpus.stopwords.words('english')\n",
        "nlp = nlp = spacy.load(\"en_core_web_sm\")"
      ]
    },
    {
      "cell_type": "code",
      "execution_count": null,
      "metadata": {
        "id": "wMJt5JIwnt9B"
      },
      "outputs": [],
      "source": [
        "# The following text normalization functions are inspired from: https://www.kaggle.com/code/lakshmi25npathi/sentiment-analysis-of-imdb-movie-reviews\n",
        "\n",
        "\n",
        "# Define necessary functions\n",
        "\n",
        "# remove html\n",
        "def strip_html(text):\n",
        "  soup = BeautifulSoup(text, \"html.parser\")\n",
        "  return soup.get_text()\n",
        "\n",
        "# remove brackets\n",
        "def remove_brackets(text):\n",
        "  return re.sub('\\[[^]]*\\]', '', text)\n",
        "\n",
        "# remove special characters\n",
        "def remove_special_chara(text):\n",
        "  pattern = r'[^a-zA-z0-9\\s]'\n",
        "  text = re.sub(pattern,'',text)\n",
        "  return text\n",
        "\n",
        "# lower case\n",
        "def lower_case(text):\n",
        "  text = text.lower()\n",
        "  return text \n",
        "\n",
        "# remove new lines \\n\n",
        "def remove_new_line(text):\n",
        "  text = re.sub(r'[\\r|\\n|\\r\\n]+', ' ',text)\n",
        "  return text\n",
        "\n",
        "# stem word endings\n",
        "def stemmer(text):\n",
        "  ps = nltk.porter.PorterStemmer()\n",
        "  text = ' '.join([ps.stem(word) for word in text.split()])\n",
        "  return(text)\n",
        "\n",
        "# lemmatization\n",
        "def lemmatize_text(text):\n",
        "  text = nlp(text)\n",
        "  text = ' '.join([word.lemma_ if word.lemma_ != '-PRON-' else word.text for word in text])\n",
        "  return text\n",
        "\n",
        "# remove stop words\n",
        "def remove_stopwords(text, is_lower_case=False):\n",
        "    tokens = tokenizer.tokenize(text)\n",
        "    tokens = [token.strip() for token in tokens]\n",
        "    if is_lower_case:\n",
        "        filtered_tokens = [token for token in tokens if token not in stopwords]\n",
        "    else:\n",
        "        filtered_tokens = [token for token in tokens if token.lower() not in stopwords]\n",
        "    filtered_text = ' '.join(filtered_tokens)    \n",
        "    return filtered_text"
      ]
    },
    {
      "cell_type": "code",
      "execution_count": null,
      "metadata": {
        "id": "rNEe6xhU8tPt"
      },
      "outputs": [],
      "source": [
        "# function to normalize text\n",
        "\n",
        "def text_normer(text):\n",
        "  text = text.apply(strip_html)\n",
        "  text = text.apply(remove_brackets)\n",
        "  text = text.apply(remove_special_chara)\n",
        "  text = text.apply(lower_case)\n",
        "  text = text.apply(remove_new_line)\n",
        "  # Unexpected results\n",
        "  # text = text.apply(stemmer)\n",
        "  text = text.apply(lemmatize_text)\n",
        "  text = text.apply(remove_stopwords)\n",
        "  return text"
      ]
    },
    {
      "cell_type": "code",
      "execution_count": null,
      "metadata": {
        "colab": {
          "base_uri": "https://localhost:8080/"
        },
        "id": "rK-TIN2n9rvI",
        "outputId": "1912527d-78c5-41d0-82ea-d57d897991d7"
      },
      "outputs": [
        {
          "name": "stdout",
          "output_type": "stream",
          "text": [
            "canadian director vincenzo natali take arthouse circuit storm intriguing astonishingly intelligent cube personal favourite sf film 90 frame basic conceit group stranger trap maze shape like giant cube shoot entirely one set take idea fascinating direction eagerly await natalis followup although take five year mount another project delighted say worth wait cypher fascinating exploration one man place world completely logical chain event find situation beyond controli want reveal much plot one joy cypher different avenue take refreshing day age see sf film one idea head cypher filmmorgan sullivan jeremy northam one blandest people ever walk planet hire company digicorp send different part america record different seminar bewilderment unbelievably bore cover topic mundane shaving cream cheesewhile morgan wait one seminar run rita foster impeccably cast lucy liu definition ice maiden give brushoff something find irresistible surprising consider dry marriage rita turn another one morgans seminar tell life appear say anything plot would cheapen impact rest film well tortuous path much fun followas cube natali show quite talent encompass seemingly ordinary people take familiar basically see happen thrust unknown cypher follow similar pattern carbon copy cube inspirationcypher film common conspiracy thriller paranoia story one great thing cypher way theme creep story without knowledge morgan realise false identity piece much large puzzle much shock himone thing distinguish cypher cube much polished cube confine minimalist setting shoestring budget cast unknown cypher also low budget natali economise much allow broaden horizon launch morgan amazing journey labyrinth identitynatalis direction exceptional deft hand rein amazing camera angle enormity digicorp building vast robust office block conjunction insignificant speck morgan stand outside colour appear bleed picture compliment tone film perfectly modern day filmnoirthe acting uniformly excellent throughout jeremy northam sympathetic figure loveless marriage question identity performance excellent modulated literally seem transform right eye clinical spineless wimp confident man anything preserve new identitydavid hewlett put welcome appearance make impact cube reside secret silo look like borrow man black scene one good exercise carefully calculate suspense paranoia supposed expert identify doubleagent fantastic piece write brilliantly act hewlett look morgan draw complex mind gamebut lucy liu scene stealer often cast film potential utilise full effect cypher finally give character fit like glove rita aloof guard femme fatale liu inhabit relish perk every time appear always control reduce room silence power icy stare alonething come gratifying end conclude ambiguous note way cube morgan deserve happy ending put ringer like cheer final scene perfect final moment come ray sunshine gloomy 90 minutescypher succeed count engage shocking always entertain everything total recall want come refreshing antidote overwhelming inexplicable matrixa fine followup natali committed fan man superb stuff\n"
          ]
        }
      ],
      "source": [
        "# Test on example\n",
        "normalization_test = text_normer(examples)\n",
        "print(normalization_test[0])"
      ]
    },
    {
      "cell_type": "markdown",
      "metadata": {
        "id": "fNlrBJViAhjk"
      },
      "source": [
        "We can now normalize our data and save it for future use."
      ]
    },
    {
      "cell_type": "code",
      "execution_count": null,
      "metadata": {
        "id": "9QQrbfbuAg3b"
      },
      "outputs": [],
      "source": [
        "# tic = time.time()\n",
        "# normalized_train = text_normer(train['Data'])\n",
        "# print(f\"Time to normalize training data (20k rows): {time.time() - tic:.2f} s\")\n"
      ]
    },
    {
      "cell_type": "code",
      "execution_count": null,
      "metadata": {
        "id": "ZfzEqvFfF1OG"
      },
      "outputs": [],
      "source": [
        "# normalized_train.head()"
      ]
    },
    {
      "cell_type": "code",
      "execution_count": null,
      "metadata": {
        "id": "157iy0XLHDMC"
      },
      "outputs": [],
      "source": [
        "# normalize test data\n",
        "# tic = time.time()\n",
        "# normalized_test = text_normer(test['Data'])\n",
        "# print(f\"Time to normalize test data (5k rows): {time.time() - tic:.2f} s\")"
      ]
    },
    {
      "cell_type": "code",
      "execution_count": null,
      "metadata": {
        "id": "XsWmws-pHOgB"
      },
      "outputs": [],
      "source": [
        "# normalize validation data\n",
        "# tic = time.time()\n",
        "# normalized_valid = text_normer(valid['Data'])\n",
        "# print(f\"Time to normalize validation data (25k rows): {time.time() - tic:.2f} s\")"
      ]
    },
    {
      "cell_type": "code",
      "execution_count": null,
      "metadata": {
        "id": "Nuq6MCpcPRjI"
      },
      "outputs": [],
      "source": [
        "# # Collect data in appropriate dataframes and save\n",
        "# # training data\n",
        "# df_norm_train = pd.DataFrame().assign(Data = normalized_train, Label = train['Label'])\n",
        "# # test data\n",
        "# df_norm_test = pd.DataFrame().assign(Data = normalized_test, Label = test['Label'])\n",
        "# # validation data\n",
        "# df_norm_valid = pd.DataFrame().assign(Data = normalized_valid, Label = valid['Label'])\n",
        "\n",
        "# # save everything as CSV\n",
        "# df_norm_train.to_csv('normalized_train.csv', index = False)\n",
        "# df_norm_test.to_csv('normalized_test.csv', index = False)\n",
        "# df_norm_valid.to_csv('normalized_valid.csv', index = False)"
      ]
    },
    {
      "cell_type": "code",
      "execution_count": null,
      "metadata": {
        "id": "AEGRTjFBrVae"
      },
      "outputs": [],
      "source": [
        "# load back data\n",
        "df_train = pd.read_csv('normalized_train.csv')\n",
        "df_test = pd.read_csv('normalized_test.csv')\n",
        "df_valid = pd.read_csv('normalized_valid.csv')"
      ]
    },
    {
      "cell_type": "markdown",
      "metadata": {
        "id": "EPJQjp3_Rzui"
      },
      "source": [
        "## Baseline comparison\n",
        "\n",
        "We compare how the different baseline methods (Logistic Regression, Ranfom Forest Classifier and Support Vector Machines) perform accuracy-wise and time wise using two different sparse vectorization for feature extraction (CountVectorizer and Tfidfvectorizer)"
      ]
    },
    {
      "cell_type": "code",
      "execution_count": null,
      "metadata": {
        "id": "uzoVZN-AZuxI"
      },
      "outputs": [],
      "source": [
        "# Vectorizer imports\n",
        "from sklearn.feature_extraction.text import CountVectorizer\n",
        "from sklearn.feature_extraction.text import TfidfVectorizer\n",
        "# from gensim.models import Word2Vec\n",
        "from sklearn.pipeline import Pipeline\n",
        "from sklearn.metrics import classification_report\n",
        "from sklearn.metrics import plot_confusion_matrix\n",
        "from sklearn.model_selection import GridSearchCV\n",
        "from sklearn.linear_model import LogisticRegression\n",
        "from sklearn.ensemble import RandomForestClassifier\n",
        "from sklearn.svm import SVC\n"
      ]
    },
    {
      "cell_type": "code",
      "execution_count": null,
      "metadata": {
        "id": "zRxZFK0TRzWK"
      },
      "outputs": [],
      "source": [
        "# The following code is inspired from the code implementation for the last question of Lab2 (text classification lab) and \n",
        "# https://scikit-learn.org/stable/auto_examples/model_selection/grid_search_text_feature_extraction.html\n",
        "\n",
        "# LogisticRegression Pipeline\n",
        "pipe_lr = Pipeline([\n",
        "    (\"countVectorizer\", CountVectorizer()),\n",
        "    (\"LogisticRegression\", LogisticRegression(multi_class=\"multinomial\", max_iter=100))])\n",
        "\n",
        "# RandomForestClassifier Pipeline\n",
        "pipe_rf = Pipeline([\n",
        "    ('countVectorizer', CountVectorizer()),\n",
        "    ('RandomForestClassifier', RandomForestClassifier(random_state=0))])\n",
        "\n",
        "# SVC\n",
        "pipe_svm = Pipeline([\n",
        "    ('countVectorizer', CountVectorizer()),\n",
        "    ('SVM', SVC(random_state=0))])\n",
        "\n",
        "\n",
        "# Define pipeline parameters for all models\n",
        "params_lr = {\n",
        "    \"countVectorizer__ngram_range\": [(1,1), (1,2)],\n",
        "    \"countVectorizer__binary\": [True, False],\n",
        "    \"LogisticRegression__C\": [0.5, 1.0],\n",
        "    #\"LogisticRegression__solver\": [\"newton-cg\", \"lbfgs\"],\n",
        "    #\"LogisticRegression__warm_start\": [True, False]\n",
        "}\n",
        "\n",
        "params_rf = {\n",
        "    \"countVectorizer__ngram_range\": [(1,1), (1,2)],\n",
        "    \"countVectorizer__binary\": [True, False],\n",
        "    \"RandomForestClassifier__criterion\": [\"gini\", \"entropy\"],\n",
        "    #\"RandomForestClassifier__bootstrap\": [True, False],\n",
        "    #\"RandomForestClassifier__warm_start\": [True, False]\n",
        "}\n",
        "\n",
        "params_svm = {\n",
        "    \"countVectorizer__ngram_range\": [(1,1), (1,2)],\n",
        "    \"countVectorizer__binary\": [True, False],\n",
        "    \"SVM__kernel\": [\"linear\", \"rbf\", \"sigmoid\"], \n",
        "    #\"SVM__C\": [0.5, 1.0]\n",
        "}\n",
        "\n",
        "grid_param_lr = GridSearchCV(\n",
        "    estimator=pipe_lr,\n",
        "    param_grid=params_lr,\n",
        "    scoring='accuracy',\n",
        "    cv=3) \n",
        "\n",
        "grid_param_rf = GridSearchCV(\n",
        "    estimator=pipe_rf,\n",
        "    param_grid=params_rf,\n",
        "    scoring=\"accuracy\",\n",
        "    cv=3)\n",
        "\n",
        "grid_param_svm = GridSearchCV(\n",
        "    estimator=pipe_svm,\n",
        "    param_grid=params_svm,\n",
        "    scoring=\"accuracy\",\n",
        "    cv=3)\n",
        "\n",
        "pipelines = [(grid_param_lr, params_lr, pipe_lr), (grid_param_rf, params_rf, pipe_rf), (grid_param_svm, params_svm, pipe_svm)]"
      ]
    },
    {
      "cell_type": "code",
      "execution_count": null,
      "metadata": {
        "colab": {
          "background_save": true,
          "base_uri": "https://localhost:8080/"
        },
        "id": "V_SBNhAH0ovZ",
        "outputId": "ab4f9ab3-0265-44c7-e155-248103995ec4"
      },
      "outputs": [
        {
          "name": "stdout",
          "output_type": "stream",
          "text": [
            "Performing grid search...\n",
            "Pipeline: ['countVectorizer', 'LogisticRegression']\n",
            "Parameters:\n",
            "{'LogisticRegression__C': [0.5, 1.0],\n",
            " 'countVectorizer__binary': [True, False],\n",
            " 'countVectorizer__ngram_range': [(1, 1), (1, 2)]}\n",
            "Done in 756.006s\n",
            "\n",
            "Best score: 0.880\n",
            "Best parameters set:\n",
            "\tLogisticRegression__C: 1.0\n",
            "\tcountVectorizer__binary: False\n",
            "\tcountVectorizer__ngram_range: (1, 2)\n",
            "\n",
            "Classification report for optimal parameters (training set)\n",
            "\n",
            "              precision    recall  f1-score   support\n",
            "\n",
            "           0       1.00      1.00      1.00     10057\n",
            "           1       1.00      1.00      1.00      9943\n",
            "\n",
            "    accuracy                           1.00     20000\n",
            "   macro avg       1.00      1.00      1.00     20000\n",
            "weighted avg       1.00      1.00      1.00     20000\n",
            "\n",
            "\n",
            "Classification report for optimal parameters (test data)\n",
            "\n",
            "              precision    recall  f1-score   support\n",
            "\n",
            "           0       0.88      0.88      0.88      2443\n",
            "           1       0.89      0.89      0.89      2557\n",
            "\n",
            "    accuracy                           0.89      5000\n",
            "   macro avg       0.89      0.89      0.89      5000\n",
            "weighted avg       0.89      0.89      0.89      5000\n",
            "\n",
            "################################################################\n",
            "Performing grid search...\n",
            "Pipeline: ['countVectorizer', 'RandomForestClassifier']\n",
            "Parameters:\n",
            "{'RandomForestClassifier__criterion': ['gini', 'entropy'],\n",
            " 'countVectorizer__binary': [True, False],\n",
            " 'countVectorizer__ngram_range': [(1, 1), (1, 2)]}\n",
            "Done in 2044.244s\n",
            "\n",
            "Best score: 0.849\n",
            "Best parameters set:\n",
            "\tRandomForestClassifier__criterion: 'entropy'\n",
            "\tcountVectorizer__binary: False\n",
            "\tcountVectorizer__ngram_range: (1, 2)\n",
            "\n",
            "Classification report for optimal parameters (training set)\n",
            "\n",
            "              precision    recall  f1-score   support\n",
            "\n",
            "           0       1.00      1.00      1.00     10057\n",
            "           1       1.00      1.00      1.00      9943\n",
            "\n",
            "    accuracy                           1.00     20000\n",
            "   macro avg       1.00      1.00      1.00     20000\n",
            "weighted avg       1.00      1.00      1.00     20000\n",
            "\n",
            "\n",
            "Classification report for optimal parameters (test data)\n",
            "\n",
            "              precision    recall  f1-score   support\n",
            "\n",
            "           0       0.86      0.84      0.85      2443\n",
            "           1       0.85      0.87      0.86      2557\n",
            "\n",
            "    accuracy                           0.86      5000\n",
            "   macro avg       0.86      0.86      0.86      5000\n",
            "weighted avg       0.86      0.86      0.86      5000\n",
            "\n",
            "################################################################\n",
            "Performing grid search...\n",
            "Pipeline: ['countVectorizer', 'SVM']\n",
            "Parameters:\n",
            "{'SVM__kernel': ['linear', 'rbf', 'sigmoid'],\n",
            " 'countVectorizer__binary': [True, False],\n",
            " 'countVectorizer__ngram_range': [(1, 1), (1, 2)]}\n"
          ]
        }
      ],
      "source": [
        "from pprint import pprint\n",
        "from time import time\n",
        "import warnings\n",
        "\n",
        "warnings.filterwarnings('ignore')\n",
        "##### runtime ended prematurely (restarting at failure)\n",
        "# pipelines = [(grid_param_svm, params_svm, pipe_svm)]\n",
        "#####\n",
        "for pipe in pipelines:\n",
        "    print(\"Performing grid search...\")\n",
        "    print(\"Pipeline:\", [name for name, _ in pipe[2].steps])\n",
        "    print(\"Parameters:\")\n",
        "    pprint(pipe[1])\n",
        "    t0 = time()\n",
        "    pipe[0].fit(df_train[\"Data\"], df_train[\"Label\"])\n",
        "    print(\"Done in %0.3fs\\n\" % (time() - t0))\n",
        "    print(\"Best score: %0.3f\" % pipe[0].best_score_)\n",
        "    print(\"Best parameters set:\")\n",
        "    best_parameters = pipe[0].best_estimator_.get_params()\n",
        "    for param_name in sorted(pipe[1].keys()):\n",
        "        print(\"\\t%s: %r\" % (param_name, best_parameters[param_name]))\n",
        "        \n",
        "    # On training data\n",
        "    predict_train = pipe[0].best_estimator_.predict(df_train[\"Data\"])\n",
        "    # On test data\n",
        "    predict_test = pipe[0].best_estimator_.predict(df_test[\"Data\"])\n",
        "\n",
        "    # classification report for optimal parameters (training set)\n",
        "    print(\"\\nClassification report for optimal parameters (training set)\\n\")\n",
        "    print(classification_report(df_train[\"Label\"], predict_train))\n",
        "\n",
        "    # classification report for optimal parameters (test set)\n",
        "    print(\"\\nClassification report for optimal parameters (test data)\\n\")\n",
        "    print(classification_report(df_test[\"Label\"], predict_test))\n",
        "    \n",
        "    print(\"################################################################\")\n",
        "\n",
        "    ## The result shown below is the attempt at 3-fold cross validation"
      ]
    },
    {
      "cell_type": "code",
      "execution_count": null,
      "metadata": {
        "id": "SBMApt5end8d"
      },
      "outputs": [],
      "source": [
        "### output for 5-fold CV\n",
        "\n",
        "# Performing grid search...\n",
        "# Pipeline: ['countVectorizer', 'LogisticRegression']\n",
        "# Parameters:\n",
        "# {'LogisticRegression__C': [0.5, 1.0],\n",
        "#  'countVectorizer__binary': [True, False],\n",
        "#  'countVectorizer__ngram_range': [(1, 1), (1, 2)]}\n",
        "# Done in 1827.272s\n",
        "\n",
        "# Best score: 0.883\n",
        "# Best parameters set:\n",
        "# \tLogisticRegression__C: 1.0\n",
        "# \tcountVectorizer__binary: False\n",
        "# \tcountVectorizer__ngram_range: (1, 2)\n",
        "\n",
        "# Classification report for optimal parameters (training set)\n",
        "\n",
        "#               precision    recall  f1-score   support\n",
        "\n",
        "#            0       1.00      1.00      1.00     10057\n",
        "#            1       1.00      1.00      1.00      9943\n",
        "\n",
        "#     accuracy                           1.00     20000\n",
        "#    macro avg       1.00      1.00      1.00     20000\n",
        "# weighted avg       1.00      1.00      1.00     20000\n",
        "\n",
        "\n",
        "# Classification report for optimal parameters (test data)\n",
        "\n",
        "#               precision    recall  f1-score   support\n",
        "\n",
        "#            0       0.88      0.88      0.88      2443\n",
        "#            1       0.89      0.89      0.89      2557\n",
        "\n",
        "#     accuracy                           0.89      5000\n",
        "#    macro avg       0.89      0.89      0.89      5000\n",
        "# weighted avg       0.89      0.89      0.89      5000\n",
        "\n",
        "# ################################################################\n",
        "# Performing grid search...\n",
        "# Pipeline: ['countVectorizer', 'RandomForestClassifier']\n",
        "# Parameters:\n",
        "# {'RandomForestClassifier__criterion': ['gini', 'entropy'],\n",
        "#  'countVectorizer__binary': [True, False],\n",
        "#  'countVectorizer__ngram_range': [(1, 1), (1, 2)]}\n",
        "# Done in 6422.180s\n",
        "\n",
        "# Best score: 0.854\n",
        "# Best parameters set:\n",
        "# \tRandomForestClassifier__criterion: 'entropy'\n",
        "# \tcountVectorizer__binary: False\n",
        "# \tcountVectorizer__ngram_range: (1, 2)\n",
        "\n",
        "# Classification report for optimal parameters (training set)\n",
        "\n",
        "#               precision    recall  f1-score   support\n",
        "\n",
        "#            0       1.00      1.00      1.00     10057\n",
        "#            1       1.00      1.00      1.00      9943\n",
        "\n",
        "#     accuracy                           1.00     20000\n",
        "#    macro avg       1.00      1.00      1.00     20000\n",
        "# weighted avg       1.00      1.00      1.00     20000\n",
        "\n",
        "\n",
        "# Classification report for optimal parameters (test data)\n",
        "\n",
        "#               precision    recall  f1-score   support\n",
        "\n",
        "#            0       0.86      0.84      0.85      2443\n",
        "#            1       0.85      0.87      0.86      2557\n",
        "\n",
        "#     accuracy                           0.86      5000\n",
        "#    macro avg       0.86      0.86      0.86      5000\n",
        "# weighted avg       0.86      0.86      0.86      5000\n",
        "\n",
        "# ################################################################\n",
        "# Performing grid search...\n",
        "# Pipeline: ['countVectorizer', 'SVM']\n",
        "# Parameters:\n",
        "# {'SVM__kernel': ['linear', 'rbf', 'sigmoid'],\n",
        "#  'countVectorizer__binary': [True, False],\n",
        "#  'countVectorizer__ngram_range': [(1, 1), (1, 2)]}\n",
        "\n",
        "# Performing grid search...\n",
        "# Pipeline: ['countVectorizer', 'SVM']\n",
        "# Parameters:\n",
        "# {'SVM__kernel': ['linear', 'rbf', 'sigmoid'],\n",
        "#  'countVectorizer__binary': [True, False],\n",
        "#  'countVectorizer__ngram_range': [(1, 1), (1, 2)]}\n",
        "# Done in 31621.770s\n",
        "\n",
        "# Best score: 0.880\n",
        "# Best parameters set:\n",
        "# \tSVM__kernel: 'linear'\n",
        "# \tcountVectorizer__binary: False\n",
        "# \tcountVectorizer__ngram_range: (1, 2)\n",
        "\n",
        "# Classification report for optimal parameters (training set)\n",
        "\n",
        "#               precision    recall  f1-score   support\n",
        "\n",
        "#            0       1.00      1.00      1.00     10057\n",
        "#            1       1.00      1.00      1.00      9943\n",
        "\n",
        "#     accuracy                           1.00     20000\n",
        "#    macro avg       1.00      1.00      1.00     20000\n",
        "# weighted avg       1.00      1.00      1.00     20000\n",
        "\n",
        "\n",
        "# Classification report for optimal parameters (test data)\n",
        "\n",
        "#               precision    recall  f1-score   support\n",
        "\n",
        "#            0       0.88      0.88      0.88      2443\n",
        "#            1       0.89      0.88      0.88      2557\n",
        "\n",
        "#     accuracy                           0.88      5000\n",
        "#    macro avg       0.88      0.88      0.88      5000\n",
        "# weighted avg       0.88      0.88      0.88      5000\n",
        "\n",
        "# ################################################################"
      ]
    },
    {
      "cell_type": "code",
      "execution_count": null,
      "metadata": {
        "id": "yW6s3qT12oJd"
      },
      "outputs": [],
      "source": [
        "# Tfidf vectorizer\n",
        "\n",
        "# LogisticRegression Pipeline\n",
        "pipe_lr = Pipeline([\n",
        "    (\"tfidfVectorizer\", TfidfVectorizer()),\n",
        "    (\"LogisticRegression\", LogisticRegression(multi_class=\"multinomial\", max_iter=100))])\n",
        "\n",
        "# RandomForestClassifier Pipeline\n",
        "pipe_rf = Pipeline([\n",
        "    ('tfidfVectorizer', TfidfVectorizer()),\n",
        "    ('RandomForestClassifier', RandomForestClassifier(random_state=0))])\n",
        "\n",
        "# SVC\n",
        "pipe_svm = Pipeline([\n",
        "    ('tfidfVectorizer', TfidfVectorizer()),\n",
        "    ('SVM', SVC(random_state=0))])\n",
        "\n",
        "\n",
        "# Define pipeline parameters for all models\n",
        "params_lr = {\n",
        "    \"tfidfVectorizer__ngram_range\": [(1,1), (1,2)],\n",
        "    \"tfidfVectorizer__binary\": [True, False],\n",
        "    \"LogisticRegression__C\": [0.5, 1.0],\n",
        "    #\"LogisticRegression__solver\": [\"newton-cg\", \"lbfgs\"],\n",
        "    #\"LogisticRegression__warm_start\": [True, False]\n",
        "}\n",
        "\n",
        "params_rf = {\n",
        "    \"tfidfVectorizer__ngram_range\": [(1,1), (1,2)],\n",
        "    \"tfidfVectorizer__binary\": [True, False],\n",
        "    \"RandomForestClassifier__criterion\": [\"gini\", \"entropy\"],\n",
        "    #\"RandomForestClassifier__bootstrap\": [True, False],\n",
        "    #\"RandomForestClassifier__warm_start\": [True, False]\n",
        "}\n",
        "\n",
        "params_svm = {\n",
        "    \"tfidfVectorizer__ngram_range\": [(1,1), (1,2)],\n",
        "    # \"tfidfVectorizer__ngram_range\": [(1,2)],\n",
        "    \"tfidfVectorizer__binary\": [True, False],\n",
        "    # \"tfidfVectorizer__binary\": [False],\n",
        "    \"SVM__kernel\": [\"linear\", \"rbf\", \"sigmoid\"],\n",
        "    # \"SVM__kernel\": [\"linear\"], \n",
        "    #\"SVM__C\": [0.5, 1.0]\n",
        "}\n",
        "\n",
        "grid_param_lr = GridSearchCV(\n",
        "    estimator=pipe_lr,\n",
        "    param_grid=params_lr,\n",
        "    scoring='accuracy',\n",
        "    cv=3) \n",
        "\n",
        "grid_param_rf = GridSearchCV(\n",
        "    estimator=pipe_rf,\n",
        "    param_grid=params_rf,\n",
        "    scoring=\"accuracy\",\n",
        "    cv=3)\n",
        "\n",
        "grid_param_svm = GridSearchCV(\n",
        "    estimator=pipe_svm,\n",
        "    param_grid=params_svm,\n",
        "    scoring=\"accuracy\",\n",
        "    cv=3)\n",
        "\n",
        "pipelines = [(grid_param_lr, params_lr, pipe_lr), (grid_param_rf, params_rf, pipe_rf), (grid_param_svm, params_svm, pipe_svm)]"
      ]
    },
    {
      "cell_type": "code",
      "execution_count": null,
      "metadata": {
        "id": "L546mi9rrrxT"
      },
      "outputs": [],
      "source": [
        "from pprint import pprint\n",
        "from time import time\n",
        "import warnings\n",
        "\n",
        "warnings.filterwarnings('ignore')\n",
        "##### runtime ended prematurely (restarting at failure)\n",
        "# pipelines = [(grid_param_svm, params_svm, pipe_svm)]\n",
        "#####\n",
        "for pipe in pipelines:\n",
        "    print(\"Performing grid search...\")\n",
        "    print(\"Pipeline:\", [name for name, _ in pipe[2].steps])\n",
        "    print(\"Parameters:\")\n",
        "    pprint(pipe[1])\n",
        "    t0 = time()\n",
        "    pipe[0].fit(df_train[\"Data\"], df_train[\"Label\"])\n",
        "    print(\"Done in %0.3fs\\n\" % (time() - t0))\n",
        "    print(\"Best score: %0.3f\" % pipe[0].best_score_)\n",
        "    print(\"Best parameters set:\")\n",
        "    best_parameters = pipe[0].best_estimator_.get_params()\n",
        "    for param_name in sorted(pipe[1].keys()):\n",
        "        print(\"\\t%s: %r\" % (param_name, best_parameters[param_name]))\n",
        "        \n",
        "    # On training data\n",
        "    predict_train = pipe[0].best_estimator_.predict(df_train[\"Data\"])\n",
        "    # On test data\n",
        "    predict_test = pipe[0].best_estimator_.predict(df_test[\"Data\"])\n",
        "\n",
        "    # classification report for optimal parameters (training set)\n",
        "    print(\"\\nClassification report for optimal parameters (training set)\\n\")\n",
        "    print(classification_report(df_train[\"Label\"], predict_train))\n",
        "\n",
        "    # classification report for optimal parameters (test set)\n",
        "    print(\"\\nClassification report for optimal parameters (test data)\\n\")\n",
        "    print(classification_report(df_test[\"Label\"], predict_test))\n",
        "    \n",
        "    print(\"################################################################\")"
      ]
    },
    {
      "cell_type": "code",
      "execution_count": null,
      "metadata": {
        "id": "cOfdpYZXW3qz"
      },
      "outputs": [],
      "source": [
        "## Result of 5 fold CV \n",
        "\n",
        "# Performing grid search...\n",
        "# Pipeline: ['tfidfVectorizer', 'LogisticRegression']\n",
        "# Parameters:\n",
        "# {'LogisticRegression__C': [0.5, 1.0],\n",
        "#  'tfidfVectorizer__binary': [True, False],\n",
        "#  'tfidfVectorizer__ngram_range': [(1, 1), (1, 2)]}\n",
        "# Done in 1164.510s\n",
        "\n",
        "# Best score: 0.883\n",
        "# Best parameters set:\n",
        "# \tLogisticRegression__C: 1.0\n",
        "# \ttfidfVectorizer__binary: True\n",
        "# \ttfidfVectorizer__ngram_range: (1, 2)\n",
        "\n",
        "# Classification report for optimal parameters (training set)\n",
        "\n",
        "#               precision    recall  f1-score   support\n",
        "\n",
        "#            0       0.99      0.99      0.99     10057\n",
        "#            1       0.99      0.99      0.99      9943\n",
        "\n",
        "#     accuracy                           0.99     20000\n",
        "#    macro avg       0.99      0.99      0.99     20000\n",
        "# weighted avg       0.99      0.99      0.99     20000\n",
        "\n",
        "\n",
        "# Classification report for optimal parameters (test data)\n",
        "\n",
        "#               precision    recall  f1-score   support\n",
        "\n",
        "#            0       0.88      0.88      0.88      2443\n",
        "#            1       0.89      0.89      0.89      2557\n",
        "\n",
        "#     accuracy                           0.89      5000\n",
        "#    macro avg       0.89      0.89      0.89      5000\n",
        "# weighted avg       0.89      0.89      0.89      5000\n",
        "\n",
        "# ################################################################\n",
        "# Performing grid search...\n",
        "# Pipeline: ['tfidfVectorizer', 'RandomForestClassifier']\n",
        "# Parameters:\n",
        "# {'RandomForestClassifier__criterion': ['gini', 'entropy'],\n",
        "#  'tfidfVectorizer__binary': [True, False],\n",
        "#  'tfidfVectorizer__ngram_range': [(1, 1), (1, 2)]}\n",
        "# Done in 6561.010s\n",
        "\n",
        "# Best score: 0.848\n",
        "# Best parameters set:\n",
        "# \tRandomForestClassifier__criterion: 'entropy'\n",
        "# \ttfidfVectorizer__binary: False\n",
        "# \ttfidfVectorizer__ngram_range: (1, 2)\n",
        "\n",
        "# Classification report for optimal parameters (training set)\n",
        "\n",
        "#               precision    recall  f1-score   support\n",
        "\n",
        "#            0       1.00      1.00      1.00     10057\n",
        "#            1       1.00      1.00      1.00      9943\n",
        "\n",
        "#     accuracy                           1.00     20000\n",
        "#    macro avg       1.00      1.00      1.00     20000\n",
        "# weighted avg       1.00      1.00      1.00     20000\n",
        "\n",
        "\n",
        "# Classification report for optimal parameters (test data)\n",
        "\n",
        "#               precision    recall  f1-score   support\n",
        "\n",
        "#            0       0.83      0.88      0.86      2443\n",
        "#            1       0.88      0.83      0.86      2557\n",
        "\n",
        "#     accuracy                           0.86      5000\n",
        "#    macro avg       0.86      0.86      0.86      5000\n",
        "# weighted avg       0.86      0.86      0.86      5000\n",
        "\n",
        "# ################################################################\n",
        "\n",
        "# Performing grid search...\n",
        "# Pipeline: ['tfidfVectorizer', 'SVM']\n",
        "# Parameters:\n",
        "# {'SVM__kernel': ['linear'],\n",
        "#  'tfidfVectorizer__binary': [False],\n",
        "#  'tfidfVectorizer__ngram_range': [(1, 2)]}\n",
        "# Done in 5830.067s\n",
        "\n",
        "# Best score: 0.892\n",
        "# Best parameters set:\n",
        "# \tSVM__kernel: 'linear'\n",
        "# \ttfidfVectorizer__binary: False\n",
        "# \ttfidfVectorizer__ngram_range: (1, 2)\n",
        "\n",
        "# Classification report for optimal parameters (training set)\n",
        "\n",
        "#               precision    recall  f1-score   support\n",
        "\n",
        "#            0       1.00      1.00      1.00     10057\n",
        "#            1       1.00      1.00      1.00      9943\n",
        "\n",
        "#     accuracy                           1.00     20000\n",
        "#    macro avg       1.00      1.00      1.00     20000\n",
        "# weighted avg       1.00      1.00      1.00     20000\n",
        "\n",
        "\n",
        "# Classification report for optimal parameters (test data)\n",
        "\n",
        "#               precision    recall  f1-score   support\n",
        "\n",
        "#            0       0.90      0.89      0.89      2443\n",
        "#            1       0.89      0.91      0.90      2557\n",
        "\n",
        "#     accuracy                           0.90      5000\n",
        "#    macro avg       0.90      0.90      0.90      5000\n",
        "# weighted avg       0.90      0.90      0.90      5000\n",
        "\n",
        "# ################################################################"
      ]
    }
  ],
  "metadata": {
    "accelerator": "GPU",
    "colab": {
      "collapsed_sections": [],
      "name": "TM_classification.ipynb",
      "provenance": []
    },
    "gpuClass": "standard",
    "kernelspec": {
      "display_name": "Python 3",
      "name": "python3"
    },
    "language_info": {
      "name": "python"
    }
  },
  "nbformat": 4,
  "nbformat_minor": 0
}