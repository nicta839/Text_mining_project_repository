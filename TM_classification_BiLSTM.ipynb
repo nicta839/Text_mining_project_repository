{
  "nbformat": 4,
  "nbformat_minor": 0,
  "metadata": {
    "colab": {
      "name": "TM_classification_BiLSTM.ipynb",
      "provenance": [],
      "collapsed_sections": []
    },
    "kernelspec": {
      "name": "python3",
      "display_name": "Python 3"
    },
    "language_info": {
      "name": "python"
    },
    "accelerator": "GPU",
    "gpuClass": "standard"
  },
  "cells": [
    {
      "cell_type": "markdown",
      "source": [
        "## BiLSTM\n",
        "\n",
        "https://keras.io/examples/nlp/bidirectional_lstm_imdb/"
      ],
      "metadata": {
        "id": "sk1lqZKtIGpW"
      }
    },
    {
      "cell_type": "code",
      "execution_count": null,
      "metadata": {
        "colab": {
          "base_uri": "https://localhost:8080/"
        },
        "id": "3caQN_52DfDb",
        "outputId": "37075eeb-8675-47bb-a77a-253ecd3fa142"
      },
      "outputs": [
        {
          "output_type": "stream",
          "name": "stdout",
          "text": [
            "Model: \"model\"\n",
            "_________________________________________________________________\n",
            " Layer (type)                Output Shape              Param #   \n",
            "=================================================================\n",
            " input_1 (InputLayer)        [(None, None)]            0         \n",
            "                                                                 \n",
            " embedding (Embedding)       (None, None, 128)         2560000   \n",
            "                                                                 \n",
            " bidirectional (Bidirectiona  (None, None, 128)        98816     \n",
            " l)                                                              \n",
            "                                                                 \n",
            " bidirectional_1 (Bidirectio  (None, 128)              98816     \n",
            " nal)                                                            \n",
            "                                                                 \n",
            " dense (Dense)               (None, 1)                 129       \n",
            "                                                                 \n",
            "=================================================================\n",
            "Total params: 2,757,761\n",
            "Trainable params: 2,757,761\n",
            "Non-trainable params: 0\n",
            "_________________________________________________________________\n"
          ]
        }
      ],
      "source": [
        "# Setup \n",
        "import numpy as np\n",
        "import warnings\n",
        "\n",
        "# Ignore FutureWarning from NumPy\n",
        "warnings.simplefilter(action = 'ignore', category = FutureWarning)\n",
        "\n",
        "from tensorflow import keras\n",
        "from tensorflow.keras import layers\n",
        "from keras.datasets import imdb\n",
        "from keras.preprocessing import sequence\n",
        "from keras.layers import Dense, LSTM\n",
        "from keras.models import Sequential\n",
        "from keras.layers.embeddings import Embedding\n",
        "from sklearn.metrics import f1_score, classification_report\n",
        "\n",
        "\n",
        "max_features = 20000  # Use top 20k words\n",
        "max_len = 200 # Use first 200 words of each movie review\n",
        "\n",
        "\n",
        "\n",
        "# Input for variable-length sequences of integers\n",
        "inputs = keras.Input(shape = (None,), dtype = \"int32\")\n",
        "# Embed each integer in a 128-dimensional vector\n",
        "x = layers.Embedding(max_features, 128)(inputs)\n",
        "# Add 2 bidirectional LSTMs\n",
        "x = layers.Bidirectional(layers.LSTM(64, return_sequences = True))(x)\n",
        "x = layers.Bidirectional(layers.LSTM(64))(x)\n",
        "# Add a classifier\n",
        "outputs = layers.Dense(1, activation = \"sigmoid\")(x)\n",
        "model = keras.Model(inputs, outputs)\n",
        "model.summary()"
      ]
    },
    {
      "cell_type": "code",
      "source": [
        "# Load the IMDB movie review sentiment data\n",
        "(x_train, y_train), (x_test, y_test) = keras.datasets.imdb.load_data(\n",
        "    num_words = max_features, seed = 123)\n",
        "print(len(x_train), \"Training sequences\")\n",
        "print(len(x_test), \"Test sequences\")\n",
        "\n",
        "x_train = keras.preprocessing.sequence.pad_sequences(x_train, maxlen = max_len)\n",
        "x_test = keras.preprocessing.sequence.pad_sequences(x_test, maxlen = max_len)"
      ],
      "metadata": {
        "colab": {
          "base_uri": "https://localhost:8080/"
        },
        "id": "fXUux-4EDpWd",
        "outputId": "8350504d-838a-4fc7-b139-e801dd551890"
      },
      "execution_count": null,
      "outputs": [
        {
          "output_type": "stream",
          "name": "stdout",
          "text": [
            "Downloading data from https://storage.googleapis.com/tensorflow/tf-keras-datasets/imdb.npz\n",
            "17465344/17464789 [==============================] - 0s 0us/step\n",
            "17473536/17464789 [==============================] - 0s 0us/step\n",
            "25000 Training sequences\n",
            "25000 Test sequences\n"
          ]
        }
      ]
    },
    {
      "cell_type": "code",
      "source": [
        "# Split into training and validation for fair comparison with other methods\n",
        "# We split the data in the same sets than in the other model implementations\n",
        "np.random.seed(123)\n",
        "val_ix = np.random.randint(0, 24999, 5000)\n",
        "x_val = x_train[val_ix]\n",
        "y_val = y_train[val_ix]"
      ],
      "metadata": {
        "id": "UA1BgH-FDrj8"
      },
      "execution_count": null,
      "outputs": []
    },
    {
      "cell_type": "code",
      "source": [
        "# Train and evaluate the model\n",
        "model.compile(optimizer = \"adam\", loss = \"binary_crossentropy\", metrics = [\"accuracy\"])\n",
        "history = model.fit(x_train, \n",
        "                    y_train, \n",
        "                    batch_size = 32, \n",
        "                    epochs = 5, \n",
        "                    validation_data = (x_val, y_val))"
      ],
      "metadata": {
        "colab": {
          "base_uri": "https://localhost:8080/"
        },
        "id": "2eDGNkOoDtqL",
        "outputId": "891c33f5-e0c3-4e23-e834-c534ef74540b"
      },
      "execution_count": null,
      "outputs": [
        {
          "output_type": "stream",
          "name": "stdout",
          "text": [
            "Epoch 1/5\n",
            "782/782 [==============================] - 42s 41ms/step - loss: 0.4001 - accuracy: 0.8189 - val_loss: 0.2378 - val_accuracy: 0.9260\n",
            "Epoch 2/5\n",
            "782/782 [==============================] - 31s 40ms/step - loss: 0.2157 - accuracy: 0.9176 - val_loss: 0.1081 - val_accuracy: 0.9656\n",
            "Epoch 3/5\n",
            "782/782 [==============================] - 31s 39ms/step - loss: 0.1333 - accuracy: 0.9519 - val_loss: 0.0725 - val_accuracy: 0.9814\n",
            "Epoch 4/5\n",
            "782/782 [==============================] - 31s 40ms/step - loss: 0.0836 - accuracy: 0.9724 - val_loss: 0.0616 - val_accuracy: 0.9894\n",
            "Epoch 5/5\n",
            "782/782 [==============================] - 31s 39ms/step - loss: 0.0625 - accuracy: 0.9792 - val_loss: 0.0293 - val_accuracy: 0.9916\n"
          ]
        }
      ]
    },
    {
      "cell_type": "code",
      "source": [
        "history_dict = history.history\n",
        "acc = history_dict['accuracy']\n",
        "val_acc = history_dict['val_accuracy']\n",
        "loss = history_dict['loss']\n",
        "val_loss = history_dict['val_loss']\n",
        "epochs = range(1, len(acc) + 1)\n",
        "\n",
        "import matplotlib.pyplot as plt\n",
        "\n",
        "plt.rcParams[\"figure.figsize\"] = (10.0, 6.0)\n",
        "plt.plot(epochs, acc, '-r', label = 'Train accuracy')\n",
        "plt.plot(epochs, val_acc, '-b', label = 'Valid accuracy')\n",
        "plt.xlabel('Epoch')\n",
        "plt.ylabel('Accuracy')\n",
        "plt.title('Train & valid accuracy')\n",
        "plt.legend(loc = 4)\n",
        "plt.show()"
      ],
      "metadata": {
        "colab": {
          "base_uri": "https://localhost:8080/",
          "height": 404
        },
        "id": "eR9liHPrDv1V",
        "outputId": "4bfa06ee-61a4-4f23-d9b5-cf4a6623e111"
      },
      "execution_count": null,
      "outputs": [
        {
          "output_type": "display_data",
          "data": {
            "text/plain": [
              "<Figure size 720x432 with 1 Axes>"
            ],
            "image/png": "[encoded data removed]"
          },
          "metadata": {
            "needs_background": "light"
          }
        }
      ]
    },
    {
      "cell_type": "markdown",
      "source": [
        "Both training and validation accuracies are suspiciously high."
      ],
      "metadata": {
        "id": "mJNIGXA1pWOG"
      }
    },
    {
      "cell_type": "code",
      "source": [
        "# Get validation accuracy + loss\n",
        "scores = model.evaluate(x_val, y_val, batch_size = 32, verbose = 0)\n",
        "print('Validation loss: %.4f' % scores[0])\n",
        "print('Validation accuracy: %.4f' % scores[1])"
      ],
      "metadata": {
        "colab": {
          "base_uri": "https://localhost:8080/"
        },
        "id": "01t9b6ojDx8A",
        "outputId": "9da4f830-97bc-4416-9b7e-dac0c70b0f0a"
      },
      "execution_count": null,
      "outputs": [
        {
          "output_type": "stream",
          "name": "stdout",
          "text": [
            "Validation loss: 0.0293\n",
            "Validation accuracy: 0.9916\n"
          ]
        }
      ]
    },
    {
      "cell_type": "markdown",
      "source": [
        "This is a surprisingly good (and suspicious) result. Let's see if the model generalizes to the remaining data of the dataset that we haven't used yet."
      ],
      "metadata": {
        "id": "GzVJnG9v9s0A"
      }
    },
    {
      "cell_type": "code",
      "source": [
        "# Predict test set\n",
        "yhat_class_info = model.predict(x_test, verbose = 0)\n",
        "yhat_class_info = np.concatenate([1 - yhat_class_info, yhat_class_info], axis = 1)\n",
        "yhat_class_info = np.argmax(yhat_class_info, axis = 1)\n",
        "\n",
        "# Classification report\n",
        "print(\"Classification Report\")\n",
        "print(classification_report(y_test, yhat_class_info))"
      ],
      "metadata": {
        "colab": {
          "base_uri": "https://localhost:8080/"
        },
        "id": "VOGUwcaEDzm5",
        "outputId": "2999f25a-e4ee-49f1-bbc1-19e9b47b9c7c"
      },
      "execution_count": null,
      "outputs": [
        {
          "output_type": "stream",
          "name": "stdout",
          "text": [
            "Classification Report\n",
            "              precision    recall  f1-score   support\n",
            "\n",
            "           0       0.86      0.85      0.85     12500\n",
            "           1       0.85      0.86      0.85     12500\n",
            "\n",
            "    accuracy                           0.85     25000\n",
            "   macro avg       0.85      0.85      0.85     25000\n",
            "weighted avg       0.85      0.85      0.85     25000\n",
            "\n"
          ]
        }
      ]
    },
    {
      "cell_type": "markdown",
      "source": [
        "The model does not generalize well on the test data. There is some overfitting during training. The source of this overfitting is unclear since we implemented a droupout layer that should avoid this problem"
      ],
      "metadata": {
        "id": "iwyQSmUHL3dT"
      }
    }
  ]
}